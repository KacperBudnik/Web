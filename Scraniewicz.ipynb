{
 "cells": [
  {
   "cell_type": "code",
   "execution_count": 172,
   "id": "9410a679-bc83-4fd4-af62-aaa9db0b4470",
   "metadata": {},
   "outputs": [],
   "source": [
    "using Gumbo\n",
    "using Cascadia\n",
    "using DataStructures"
   ]
  },
  {
   "cell_type": "code",
   "execution_count": 173,
   "id": "839a3d47-de25-4bcf-9910-4b9adaacd5d2",
   "metadata": {},
   "outputs": [
    {
     "data": {
      "text/plain": [
       "\"https://alfa.im.pwr.edu.pl/~giniew/doku.php?id=dyplomanci:stare\""
      ]
     },
     "execution_count": 173,
     "metadata": {},
     "output_type": "execute_result"
    }
   ],
   "source": [
    "url=\"https://alfa.im.pwr.edu.pl/~giniew/doku.php?id=dyplomanci:stare\""
   ]
  },
  {
   "cell_type": "code",
   "execution_count": 174,
   "id": "c22d06f8-c38f-49e6-a586-f728bffd4745",
   "metadata": {},
   "outputs": [
    {
     "data": {
      "text/plain": [
       "HTML Document:\n",
       "<!DOCTYPE html>\n",
       "HTMLElement{:HTML}:<HTML class=\"no-js\" dir=\"ltr\" lang=\"pl\">\n",
       "  <head>\n",
       "    <meta charset=\"utf-8\"/>\n",
       "    <title>\n",
       "      dyplomanci:stare [Andrzej Giniewicz]\n",
       "    </title>\n",
       "    <script>(function(H){H.className=H.className.replace(/\\bno-js\\b/,'js')})(document.documentElement)    </script>\n",
       "    <meta content=\"DokuWiki\" name=\"generator\"/>\n",
       "    <meta content=\"#008800\" name=\"theme-color\"/>\n",
       "    <meta content=\"index,follow\" name=\"robots\"/>\n",
       "    <meta content=\"dyplomanci,stare\" name=\"keywords\"/>\n",
       "    <link href=\"/~giniew/lib/exe/opensearch.php\" rel=\"search\" title=\"Andrzej Giniewicz\" type=\"application/opensearchdescription+xml\"/>\n",
       "    <link href=\"/~giniew/\" rel=\"start\"/>\n",
       "    <link href=\"/~giniew/doku.php?id=dyplomanci:stare&amp;do=index\" rel=\"contents\" title=\"Indeks\"/>\n",
       "    <link href=\"/~giniew/lib/exe/manifest.php\" rel=\"manifest\"/>\n",
       "    <link href=\"/~giniew/feed.php\" rel=\"alternate\" title=\"Ostatnie zmiany\" type=\"application/rss+xml\"/>\n",
       "    <link href=\"/~giniew/feed.php?mode=list&amp;ns=dyplomanci\" rel=\"alternate\" title=\"Obecny katalog\" type=\"application/rss+xml\"/>\n",
       "    <link href=\"/~giniew/doku.php?do=export_xhtml&amp;id=dyplomanci:stare\" rel=\"alternate\" title=\"Czysty HTML\" type=\"text/html\"/>\n",
       "    <link href=\"https://alfa.im.pwr.edu.pl/~giniew/doku.php?id=dyplomanci:stare\" rel=\"canonical\"/>\n",
       "    <link href=\"/~giniew/lib/exe/css.php?t=dokuwiki&amp;tseed=54f0273978fd3bc2a3c12d569774df75\" rel=\"stylesheet\"/>\n",
       "...\n"
      ]
     },
     "execution_count": 174,
     "metadata": {},
     "output_type": "execute_result"
    }
   ],
   "source": [
    "page = parsehtml(read(download(url), String))"
   ]
  },
  {
   "cell_type": "code",
   "execution_count": 175,
   "id": "0402ad6d-42c6-4461-a765-8dedd1f1c3ab",
   "metadata": {},
   "outputs": [
    {
     "data": {
      "text/plain": [
       "HTMLNode[]"
      ]
     },
     "execution_count": 175,
     "metadata": {},
     "output_type": "execute_result"
    }
   ],
   "source": [
    "tmp=eachmatch(Selector(\"#licencjackie+ol>li\"),page.root)"
   ]
  },
  {
   "cell_type": "code",
   "execution_count": 176,
   "id": "71acba8a-9795-4b9a-8d97-942d14d2d799",
   "metadata": {},
   "outputs": [],
   "source": [
    "lic=eachmatch(Selector(\"#licencjackie + div ol>li\"),page.root)\n",
    "inz=eachmatch(Selector(\"#inzynierskie + div ol>li\"),page.root)\n",
    "mgr=eachmatch(Selector(\"#magisterskie + div ol>li\"),page.root);"
   ]
  },
  {
   "cell_type": "code",
   "execution_count": 177,
   "id": "8ad1fed4-0188-4c29-b2c8-9457e802511c",
   "metadata": {},
   "outputs": [
    {
     "data": {
      "text/plain": [
       "(10, 44, 26)"
      ]
     },
     "execution_count": 177,
     "metadata": {},
     "output_type": "execute_result"
    }
   ],
   "source": [
    "length(lic),length(inz),length(mgr)"
   ]
  },
  {
   "cell_type": "code",
   "execution_count": 178,
   "id": "462c638d-be72-4389-9cec-d839304d0676",
   "metadata": {},
   "outputs": [
    {
     "data": {
      "text/plain": [
       "3-element Vector{Accumulator{Int64, Int64}}:\n",
       " Accumulator(22 => 1, 16 => 2, 20 => 1, 21 => 4, 23 => 2)\n",
       " Accumulator(22 => 8, 16 => 2, 20 => 4, 21 => 5, 25 => 5, 24 => 6, 17 => 7, 23 => 3, 19 => 4)\n",
       " Accumulator(16 => 1, 20 => 4, 21 => 2, 18 => 8, 24 => 2, 17 => 3, 23 => 3, 19 => 3)"
      ]
     },
     "execution_count": 178,
     "metadata": {},
     "output_type": "execute_result"
    }
   ],
   "source": [
    "A=[counter([parse(Int,filter(isdigit, el[1][1].text)[end-1:end]) for el in lic]),\n",
    "counter([parse(Int,filter(isdigit, el[1][1].text)[end-1:end]) for el in inz]),\n",
    "counter([parse(Int,filter(isdigit, el[1][1].text)[end-1:end]) for el in mgr])]\n"
   ]
  },
  {
   "cell_type": "code",
   "execution_count": 179,
   "id": "c76ac368-c273-498d-91aa-48337f0977a6",
   "metadata": {},
   "outputs": [
    {
     "data": {
      "text/plain": [
       "2"
      ]
     },
     "execution_count": 179,
     "metadata": {},
     "output_type": "execute_result"
    }
   ],
   "source": [
    "A[1][16]"
   ]
  },
  {
   "cell_type": "code",
   "execution_count": 180,
   "id": "3c53edcc-93cb-49b2-b12d-d8bb1f7789f5",
   "metadata": {},
   "outputs": [
    {
     "data": {
      "text/plain": [
       "true"
      ]
     },
     "execution_count": 180,
     "metadata": {},
     "output_type": "execute_result"
    }
   ],
   "source": [
    "year=14\n",
    "term=true"
   ]
  },
  {
   "cell_type": "code",
   "execution_count": 181,
   "id": "f22d6a19-bf6e-42a0-a754-934114e97a8e",
   "metadata": {},
   "outputs": [
    {
     "data": {
      "text/plain": [
       "\"https://alfa.im.pwr.edu.pl/~giniew/doku.php?id=rok1415:zimowy\""
      ]
     },
     "execution_count": 181,
     "metadata": {},
     "output_type": "execute_result"
    }
   ],
   "source": [
    "url=\"https://alfa.im.pwr.edu.pl/~giniew/doku.php?id=rok\"*string(year)*string(year+1)*\":\"*(term ? \"zimowy\" : \"letni\")"
   ]
  },
  {
   "cell_type": "code",
   "execution_count": 182,
   "id": "426da4f3-d326-4d03-8742-e8a4b6a8d3ff",
   "metadata": {},
   "outputs": [],
   "source": [
    "page = parsehtml(read(download(url), String));"
   ]
  },
  {
   "cell_type": "code",
   "execution_count": 183,
   "id": "73945804-9793-418f-a8bd-a2b7c2fc20ed",
   "metadata": {},
   "outputs": [
    {
     "data": {
      "text/plain": [
       "11"
      ]
     },
     "execution_count": 183,
     "metadata": {},
     "output_type": "execute_result"
    }
   ],
   "source": [
    "length(eachmatch(Selector(\"td:not(:empty)\"),page.root)) # zawierają coś, jak np wykłady w gaussie"
   ]
  },
  {
   "cell_type": "code",
   "execution_count": 184,
   "id": "e30e8bfb-c483-47f0-a3e9-36fdcaca2678",
   "metadata": {},
   "outputs": [
    {
     "data": {
      "text/plain": [
       "7"
      ]
     },
     "execution_count": 184,
     "metadata": {},
     "output_type": "execute_result"
    }
   ],
   "source": [
    "length(eachmatch(Selector(\"td > a\"),page.root)) # zawierają link, więc tylko zajęcia"
   ]
  },
  {
   "cell_type": "code",
   "execution_count": 203,
   "id": "48b1ce7c-b67d-4be2-b8bc-9955846e85e6",
   "metadata": {},
   "outputs": [],
   "source": [
    "wyn1=Matrix{Int64}(undef, 4, 0)\n",
    "for year in 14:18 #naukowo-dydaktyczny\n",
    "    term=true\n",
    "    tmp=[0,0,0,0]\n",
    "    \n",
    "    url=\"https://alfa.im.pwr.edu.pl/~giniew/doku.php?id=rok\"*string(year)*string(year+1)*\":\"*(term ? \"zimowy\" : \"letni\")\n",
    "    page = parsehtml(read(download(url), String));\n",
    "    tmp[1:2]=[length(eachmatch(Selector(\"td > a\"),page.root)),\n",
    "        length(eachmatch(Selector(\"td:not(:empty)\"),page.root))]\n",
    "    \n",
    "    term=!term\n",
    "    url=\"https://alfa.im.pwr.edu.pl/~giniew/doku.php?id=rok\"*string(year)*string(year+1)*\":\"*(term ? \"zimowy\" : \"letni\")\n",
    "    page = parsehtml(read(download(url), String));\n",
    "    tmp[3:4]=[length(eachmatch(Selector(\"td > a\"),page.root)),\n",
    "        length(eachmatch(Selector(\"td:not(:empty)\"),page.root))]\n",
    "    \n",
    "    wyn1=hcat(wyn1, tmp)\n",
    "end"
   ]
  },
  {
   "cell_type": "code",
   "execution_count": 204,
   "id": "6782c0a0-aff8-4281-a042-51c6c2523b9b",
   "metadata": {},
   "outputs": [
    {
     "data": {
      "text/plain": [
       "4×5 Matrix{Int64}:\n",
       "  7  12   8  2  7\n",
       " 11  15  12  5  9\n",
       "  5   9   8  5  7\n",
       " 13  13  12  7  9"
      ]
     },
     "execution_count": 204,
     "metadata": {},
     "output_type": "execute_result"
    }
   ],
   "source": [
    "wyn1"
   ]
  },
  {
   "cell_type": "code",
   "execution_count": 205,
   "id": "78efa3ef-4f04-40dd-b1ff-2a3cde2b6a06",
   "metadata": {},
   "outputs": [],
   "source": [
    "wyn2=Matrix{Int64}(undef, 4, 0)\n",
    "for year in 19:24 #dydaktyczny\n",
    "    term=true\n",
    "    tmp=[0,0,0,0]\n",
    "    \n",
    "    url=\"https://alfa.im.pwr.edu.pl/~giniew/doku.php?id=rok\"*string(year)*string(year+1)*\":\"*(term ? \"zimowy\" : \"letni\")\n",
    "    page = parsehtml(read(download(url), String));\n",
    "    tmp[1:2]=[length(eachmatch(Selector(\"td > a\"),page.root)),\n",
    "        length(eachmatch(Selector(\"td:not(:empty)\"),page.root))]\n",
    "    \n",
    "    term=!term\n",
    "    url=\"https://alfa.im.pwr.edu.pl/~giniew/doku.php?id=rok\"*string(year)*string(year+1)*\":\"*(term ? \"zimowy\" : \"letni\")\n",
    "    page = parsehtml(read(download(url), String));\n",
    "    tmp[3:4]=[length(eachmatch(Selector(\"td > a\"),page.root)),\n",
    "        length(eachmatch(Selector(\"td:not(:empty)\"),page.root))]\n",
    "    \n",
    "    wyn2=hcat(wyn2, tmp)\n",
    "end"
   ]
  },
  {
   "cell_type": "code",
   "execution_count": 206,
   "id": "02eed09a-b172-4378-8a3b-fe5a8dda71e8",
   "metadata": {},
   "outputs": [
    {
     "data": {
      "text/plain": [
       "4×6 Matrix{Int64}:\n",
       "  8   9   6  5  5   9\n",
       " 11  12   6  8  7  12\n",
       "  8   6  10  5  7   0\n",
       " 11   9  12  7  9   0"
      ]
     },
     "execution_count": 206,
     "metadata": {},
     "output_type": "execute_result"
    }
   ],
   "source": [
    "wyn2"
   ]
  },
  {
   "cell_type": "code",
   "execution_count": 210,
   "id": "fd9d99a7-39f5-4d85-8333-d4816f6df628",
   "metadata": {},
   "outputs": [
    {
     "data": {
      "text/plain": [
       "5×3 Matrix{Int64}:\n",
       " 0  0  0\n",
       " 0  0  0\n",
       " 2  2  1\n",
       " 0  7  3\n",
       " 0  0  8"
      ]
     },
     "execution_count": 210,
     "metadata": {},
     "output_type": "execute_result"
    }
   ],
   "source": [
    "A1=hcat([A[1][i] for i in 14:18], [A[2][i] for i in 14:18], [A[3][i] for i in 14:18])"
   ]
  },
  {
   "cell_type": "code",
   "execution_count": 240,
   "id": "bc58c4bc-62a4-4ea5-9728-fd293441cde9",
   "metadata": {
    "scrolled": true
   },
   "outputs": [
    {
     "data": {
      "text/plain": [
       "6×3 Matrix{Int64}:\n",
       " 0  4  3\n",
       " 1  4  4\n",
       " 4  5  2\n",
       " 1  8  0\n",
       " 2  3  3\n",
       " 0  6  2"
      ]
     },
     "execution_count": 240,
     "metadata": {},
     "output_type": "execute_result"
    }
   ],
   "source": [
    "A2=hcat([A[1][i] for i in 19:24], [A[2][i] for i in 19:24], [A[3][i] for i in 19:24])"
   ]
  },
  {
   "cell_type": "code",
   "execution_count": 215,
   "id": "79d2a67e-795f-49ba-a981-fd74c493dbef",
   "metadata": {},
   "outputs": [
    {
     "ename": "LoadError",
     "evalue": "UndefVarError: `cor` not defined in `Main`\nSuggestion: check for spelling errors or missing imports.",
     "output_type": "error",
     "traceback": [
      "UndefVarError: `cor` not defined in `Main`\nSuggestion: check for spelling errors or missing imports.",
      "",
      "Stacktrace:",
      " [1] top-level scope",
      "   @ In[215]:1"
     ]
    }
   ],
   "source": [
    "cor(wyn1[1,:],A[:,1])"
   ]
  },
  {
   "cell_type": "code",
   "execution_count": 218,
   "id": "69289557-56e2-4cd7-9998-3cc2dea6564d",
   "metadata": {},
   "outputs": [],
   "source": [
    "using Statistics"
   ]
  },
  {
   "cell_type": "code",
   "execution_count": 223,
   "id": "5ac051c8-9750-473c-b199-bcd6e6637c30",
   "metadata": {},
   "outputs": [
    {
     "data": {
      "text/plain": [
       "5×3 Matrix{Int64}:\n",
       " 0  0  0\n",
       " 0  0  0\n",
       " 2  2  1\n",
       " 0  7  3\n",
       " 0  0  8"
      ]
     },
     "execution_count": 223,
     "metadata": {},
     "output_type": "execute_result"
    }
   ],
   "source": [
    "A1"
   ]
  },
  {
   "cell_type": "code",
   "execution_count": 225,
   "id": "d5cd0db6-cac0-4e2d-9470-c3b487a2cc68",
   "metadata": {},
   "outputs": [
    {
     "data": {
      "text/plain": [
       "0.12549116102763172"
      ]
     },
     "execution_count": 225,
     "metadata": {},
     "output_type": "execute_result"
    }
   ],
   "source": [
    "cor(wyn1[1,:],A1[:,1]) #dydaktyczno-naukowe i licencjat"
   ]
  },
  {
   "cell_type": "code",
   "execution_count": 226,
   "id": "1b4536c6-5d1b-4aef-920a-5f9a275b9226",
   "metadata": {},
   "outputs": [
    {
     "data": {
      "text/plain": [
       "0.24077170617153837"
      ]
     },
     "execution_count": 226,
     "metadata": {},
     "output_type": "execute_result"
    }
   ],
   "source": [
    "cor(wyn1[2,:],A1[:,1]) #dydaktyczno-naukowe i licencjat v2"
   ]
  },
  {
   "cell_type": "code",
   "execution_count": 232,
   "id": "10ee8559-be4f-488a-a9c3-a7fa5a7c315c",
   "metadata": {},
   "outputs": [
    {
     "data": {
      "text/plain": [
       "-0.4699712352437345"
      ]
     },
     "execution_count": 232,
     "metadata": {},
     "output_type": "execute_result"
    }
   ],
   "source": [
    "cor(wyn1[3,:],A1[:,2]) #dydaktyczno-naukowe i inżynieki"
   ]
  },
  {
   "cell_type": "code",
   "execution_count": 233,
   "id": "9935e589-0103-4b89-886c-20b82b54b5f0",
   "metadata": {},
   "outputs": [
    {
     "data": {
      "text/plain": [
       "-0.743353195614273"
      ]
     },
     "execution_count": 233,
     "metadata": {},
     "output_type": "execute_result"
    }
   ],
   "source": [
    "cor(wyn1[4,:],A1[:,2]) #dydaktyczno-naukowe i inżynieki v2"
   ]
  },
  {
   "cell_type": "code",
   "execution_count": null,
   "id": "d53e300f-c6e8-4042-83a6-e7c1274c795b",
   "metadata": {},
   "outputs": [],
   "source": []
  },
  {
   "cell_type": "code",
   "execution_count": 246,
   "id": "a1aae736-8fc2-4575-98ab-f3b20a7aeffb",
   "metadata": {},
   "outputs": [
    {
     "data": {
      "text/plain": [
       "-0.5601120336112039"
      ]
     },
     "execution_count": 246,
     "metadata": {},
     "output_type": "execute_result"
    }
   ],
   "source": [
    "cor(wyn2[1,:],A2[:,1]) #dydaktyczne i licencjat"
   ]
  },
  {
   "cell_type": "code",
   "execution_count": 247,
   "id": "dbac9bf6-a18d-4788-b262-e6f75b9fe892",
   "metadata": {},
   "outputs": [
    {
     "data": {
      "text/plain": [
       "-0.8328707558159618"
      ]
     },
     "execution_count": 247,
     "metadata": {},
     "output_type": "execute_result"
    }
   ],
   "source": [
    "cor(wyn2[2,:],A2[:,1]) #dydaktyczne i licencjat v2"
   ]
  },
  {
   "cell_type": "code",
   "execution_count": 248,
   "id": "ea731f52-5561-4dde-ab19-3630f81d2016",
   "metadata": {},
   "outputs": [
    {
     "data": {
      "text/plain": [
       "-0.42674590679409835"
      ]
     },
     "execution_count": 248,
     "metadata": {},
     "output_type": "execute_result"
    }
   ],
   "source": [
    "cor(wyn2[3,:],A2[:,2]) #dydaktyczne i inżynieki"
   ]
  },
  {
   "cell_type": "code",
   "execution_count": 249,
   "id": "1640efb7-4c76-422b-943b-0d09d1d69f78",
   "metadata": {},
   "outputs": [
    {
     "data": {
      "text/plain": [
       "-0.4430931298712838"
      ]
     },
     "execution_count": 249,
     "metadata": {},
     "output_type": "execute_result"
    }
   ],
   "source": [
    "cor(wyn2[4,:],A2[:,2]) #dydaktyczne i inżynieki v2"
   ]
  },
  {
   "cell_type": "code",
   "execution_count": null,
   "id": "65aa0e37-b679-46c3-a637-265740dff034",
   "metadata": {},
   "outputs": [],
   "source": []
  },
  {
   "cell_type": "code",
   "execution_count": 263,
   "id": "bc4c57a8-b4c4-44ea-bd30-c2b48305e087",
   "metadata": {},
   "outputs": [
    {
     "data": {
      "text/plain": [
       "-0.10809339210113263"
      ]
     },
     "execution_count": 263,
     "metadata": {},
     "output_type": "execute_result"
    }
   ],
   "source": [
    "cor(wyn1[3,:],A1[:,3]) #dydaktyczno-naukowe i mag"
   ]
  },
  {
   "cell_type": "code",
   "execution_count": 264,
   "id": "8895fd13-5b5d-4eae-9f18-cf036f230cb5",
   "metadata": {},
   "outputs": [
    {
     "data": {
      "text/plain": [
       "-0.6818198578686828"
      ]
     },
     "execution_count": 264,
     "metadata": {},
     "output_type": "execute_result"
    }
   ],
   "source": [
    "cor(wyn1[4,:],A1[:,3]) #dydaktyczno-naukowe i mag v2"
   ]
  },
  {
   "cell_type": "code",
   "execution_count": 265,
   "id": "88b17d70-a209-4905-ac0b-d9690a99534c",
   "metadata": {},
   "outputs": [
    {
     "data": {
      "text/plain": [
       "0.21490059564796982"
      ]
     },
     "execution_count": 265,
     "metadata": {},
     "output_type": "execute_result"
    }
   ],
   "source": [
    "cor(wyn2[3,:],A2[:,3]) #dydaktyczne i mag"
   ]
  },
  {
   "cell_type": "code",
   "execution_count": 266,
   "id": "d043cbb9-29c5-46ea-9acb-ac224d981507",
   "metadata": {},
   "outputs": [
    {
     "data": {
      "text/plain": [
       "0.273009453115974"
      ]
     },
     "execution_count": 266,
     "metadata": {},
     "output_type": "execute_result"
    }
   ],
   "source": [
    "cor(wyn2[4,:],A2[:,3]) #dydaktyczne i maf v2"
   ]
  },
  {
   "cell_type": "code",
   "execution_count": null,
   "id": "96b88e6b-9581-4e9d-9219-587187d6b7c4",
   "metadata": {},
   "outputs": [],
   "source": []
  },
  {
   "cell_type": "code",
   "execution_count": null,
   "id": "4782f63e-a1ee-4af4-849a-0ff9c09a9a6d",
   "metadata": {},
   "outputs": [],
   "source": []
  }
 ],
 "metadata": {
  "kernelspec": {
   "display_name": "Julia 1.11.0",
   "language": "julia",
   "name": "julia-1.11"
  },
  "language_info": {
   "file_extension": ".jl",
   "mimetype": "application/julia",
   "name": "julia",
   "version": "1.11.0"
  }
 },
 "nbformat": 4,
 "nbformat_minor": 5
}
